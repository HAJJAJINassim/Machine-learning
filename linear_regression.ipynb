{
 "cells": [
  {
   "cell_type": "markdown",
   "metadata": {},
   "source": [
    "<h1>implementation of a Linear Regression probleme with just one feature</h1>"
   ]
  },
  {
   "cell_type": "markdown",
   "metadata": {},
   "source": [
    "<h3>1- Importation et visualisation des donnees</h3>"
   ]
  },
  {
   "cell_type": "code",
   "execution_count": null,
   "metadata": {},
   "outputs": [],
   "source": [
    "import pandas as pd\n",
    "import numpy as np\n",
    "import matplotlib.pyplot as plt"
   ]
  },
  {
   "cell_type": "code",
   "execution_count": null,
   "metadata": {},
   "outputs": [],
   "source": [
    "data=pd.read_csv('C:/Users/nassi/Desktop/Cours_BIBDA/Machine Learning/py/linear regression/ex1data1.txt',\n",
    "                   sep=\",\")\n",
    "data.columns=[\"peop\",\"profit\"]\n",
    "data.head()"
   ]
  },
  {
   "cell_type": "code",
   "execution_count": null,
   "metadata": {},
   "outputs": [],
   "source": [
    "X=np.array(data['peop'])\n",
    "y=np.array(data['profit'])\n",
    "m=len(y)\n",
    "plt.scatter(X, y)"
   ]
  },
  {
   "cell_type": "code",
   "execution_count": null,
   "metadata": {},
   "outputs": [],
   "source": [
    "X_d=np.array(data['peop'])\n",
    "y_d=np.array(data['profit'])\n",
    "\"\"\"add ones column\"\"\"\n",
    "X_d=np.array([np.ones(m),X_d])\n",
    "theta_d=np.zeros(2)\n",
    "itteration=4000 #how did you know that number of itteration is 1500! we can remplace the for loop by while and compare the two last values\n",
    "alpha=0.01      # how did you know that alpha is about 0.01"
   ]
  },
  {
   "cell_type": "markdown",
   "metadata": {},
   "source": [
    "<h3>2-hypothesis and cost function</h3>"
   ]
  },
  {
   "cell_type": "code",
   "execution_count": null,
   "metadata": {},
   "outputs": [],
   "source": [
    "def cost(X,y,theta):\n",
    "    m=len(y)\n",
    "    J=(1/(2*m))*np.sum(np.power(X.T.dot(theta)-y,2))\n",
    "    return J\n",
    "def hypo(X,theta):\n",
    "    h=X.T.dot(theta)\n",
    "    return"
   ]
  },
  {
   "cell_type": "code",
   "execution_count": null,
   "metadata": {},
   "outputs": [],
   "source": [
    "cost(X_d,y_d,theta_d)"
   ]
  },
  {
   "cell_type": "markdown",
   "metadata": {},
   "source": [
    "<h3>3-Gradient descent</h3>"
   ]
  },
  {
   "cell_type": "code",
   "execution_count": null,
   "metadata": {},
   "outputs": [],
   "source": [
    "def grad(itteration,X,y,alpha,theta):\n",
    "    for i in range(itteration):\n",
    "        theta=theta-[alpha*(1/m)*np.sum(hypo(X_d,theta)-y),\n",
    "                     alpha*(1/m)*np.sum((hypo(X_d,theta)-y)*X_d[1,:])]\n",
    "        print (cost(X_d,y_d,theta))\n",
    "    return theta"
   ]
  },
  {
   "cell_type": "code",
   "execution_count": null,
   "metadata": {},
   "outputs": [],
   "source": [
    "l=grad(itteration,X_d,y_d,alpha,theta_d)"
   ]
  },
  {
   "cell_type": "markdown",
   "metadata": {},
   "source": [
    "<h3>4-plot regression lineaire</h3>"
   ]
  },
  {
   "cell_type": "code",
   "execution_count": null,
   "metadata": {
    "scrolled": true
   },
   "outputs": [],
   "source": [
    " def f(x):\n",
    "      return 1.1849957 * x -3.92643901\n",
    "\n",
    "plt.plot([f(x) for x in range(25)])\n",
    "plt.scatter(X, y)\n",
    "plt.show"
   ]
  },
  {
   "cell_type": "code",
   "execution_count": 191,
   "metadata": {},
   "outputs": [
    {
     "data": {
      "text/plain": [
       "2.1938499609865714"
      ]
     },
     "execution_count": 191,
     "metadata": {},
     "output_type": "execute_result"
    }
   ],
   "source": [
    "hypo(np.array([1,5.277]),l)"
   ]
  },
  {
   "cell_type": "markdown",
   "metadata": {},
   "source": [
    "<h2>comparate with sklearn </h2>"
   ]
  },
  {
   "cell_type": "code",
   "execution_count": 192,
   "metadata": {},
   "outputs": [
    {
     "data": {
      "text/plain": [
       "array([2.19238485])"
      ]
     },
     "execution_count": 192,
     "metadata": {},
     "output_type": "execute_result"
    }
   ],
   "source": [
    "import numpy as np\n",
    "import pandas as pd\n",
    "from sklearn.linear_model import LinearRegression\n",
    "data=pd.read_csv('C:/Users/nassi/Desktop/Cours_BIBDA/Machine Learning/py/linear regression/ex1data1.txt', sep=\",\")\n",
    "data.columns=[\"peop\",\"profit\"]\n",
    "X_d=np.array(data['peop'])\n",
    "X_d=X_d.reshape(96,1)\n",
    "y_d=np.array(data['profit'])\n",
    "reg = LinearRegression().fit(X_d, y_d,sample_weight=None)\n",
    "reg.predict(np.array([[5.277]]))"
   ]
  },
  {
   "cell_type": "code",
   "execution_count": null,
   "metadata": {},
   "outputs": [],
   "source": []
  }
 ],
 "metadata": {
  "kernelspec": {
   "display_name": "Python 3",
   "language": "python",
   "name": "python3"
  },
  "language_info": {
   "codemirror_mode": {
    "name": "ipython",
    "version": 3
   },
   "file_extension": ".py",
   "mimetype": "text/x-python",
   "name": "python",
   "nbconvert_exporter": "python",
   "pygments_lexer": "ipython3",
   "version": "3.6.6"
  }
 },
 "nbformat": 4,
 "nbformat_minor": 2
}
