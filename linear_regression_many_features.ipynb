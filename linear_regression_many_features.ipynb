{
 "cells": [
  {
   "cell_type": "markdown",
   "metadata": {},
   "source": [
    "<h1>implementation of a Linear Regression probleme with many(two) features</h1>"
   ]
  },
  {
   "cell_type": "markdown",
   "metadata": {},
   "source": [
    "<p>In this part, you will implement linear regression with multiple variables to predict the prices of houses. Suppose you are selling your house and you want to know what a good market price would be. One way to do this is to first collect information on recent houses sold and make a model of housing prices.</p>"
   ]
  },
  {
   "cell_type": "code",
   "execution_count": null,
   "metadata": {},
   "outputs": [],
   "source": [
    "import pandas as pd\n",
    "import numpy as np\n",
    "import matplotlib.pyplot as plt"
   ]
  },
  {
   "cell_type": "markdown",
   "metadata": {},
   "source": [
    "<h3>1- Importation et visualisation des donnees</h3>"
   ]
  },
  {
   "cell_type": "code",
   "execution_count": null,
   "metadata": {},
   "outputs": [],
   "source": [
    "data=pd.read_csv('C:/Users/nassi/Desktop/Cours_BIBDA/Machine Learning/py/linear regression/ex1data2.txt',\n",
    "                   sep=\",\")\n",
    "data.columns=[\"size\",\"nbr_rooms\",\"prices\"]\n",
    "X_d=np.array(data[[\"size\",\"nbr_rooms\"]])\n",
    "X_m=np.array([X_d[:,0],X_d[:,1]])\n",
    "X_m=np.concatenate(([np.ones(m)],X_m))\n",
    "y=np.array(data[\"prices\"])\n",
    "m=len(y)\n",
    "mean=np.mean(X_d[:,0])\n",
    "print(mean)\n",
    "std=np.std(X_d[:,0])\n",
    "print(std)"
   ]
  },
  {
   "cell_type": "code",
   "execution_count": null,
   "metadata": {},
   "outputs": [],
   "source": [
    "def noramlisation(X):\n",
    "    c=np.array([np.ones(m)])\n",
    "    for i in range(X_d.shape[1]):\n",
    "        mean=np.mean(X[:,i])\n",
    "        print(mean)\n",
    "        std=np.std(X[:,i])\n",
    "        print(std)\n",
    "        c=np.concatenate((c,[(np.copy(X[:,i])-mean)/std]))\n",
    "        #c=np.concatenate((c,[np.copy(X[:,i])] ))\n",
    "    return c\n",
    "X_n=noramlisation(X_d)"
   ]
  },
  {
   "cell_type": "markdown",
   "metadata": {},
   "source": [
    "X_n=np.vstack((np.array([1,2,3]),np.arra))"
   ]
  },
  {
   "cell_type": "code",
   "execution_count": null,
   "metadata": {},
   "outputs": [],
   "source": [
    "theta=np.ones(3)"
   ]
  },
  {
   "cell_type": "code",
   "execution_count": null,
   "metadata": {},
   "outputs": [],
   "source": [
    "def cost(X,y,theta):\n",
    "    m=len(y)\n",
    "    J=(1/(2*m))*sum(np.power(X.T.dot(theta)-y,2))\n",
    "    return J\n",
    "def hypo(X,theta):\n",
    "    h=X.T.dot(theta)\n",
    "    return h"
   ]
  },
  {
   "cell_type": "code",
   "execution_count": null,
   "metadata": {},
   "outputs": [],
   "source": [
    "cost(X_m,y,theta)\n",
    "t=hypo(X_n,theta)"
   ]
  },
  {
   "cell_type": "markdown",
   "metadata": {},
   "source": [
    "<h3>3-Gradient descent</h3>"
   ]
  },
  {
   "cell_type": "code",
   "execution_count": null,
   "metadata": {},
   "outputs": [],
   "source": [
    "def grad(X,y,theta,alpha,itteration):\n",
    "    for i in range(itteration):\n",
    "        theta=theta-[alpha*(1/m)*np.sum(hypo(X,theta)-y),\n",
    "                     alpha*(1/m)*np.sum((hypo(X,theta)-y)*X[1,:]),\n",
    "                     alpha*(1/m)*np.sum((hypo(X,theta)-y)*X[2,:])]\n",
    "        print (cost(X_n,y,theta))\n",
    "    return theta\n",
    "l=grad(X_n,y,theta,0.3,100)\n",
    "l"
   ]
  },
  {
   "cell_type": "code",
   "execution_count": null,
   "metadata": {},
   "outputs": [],
   "source": [
    "hypo(np.array([1,(1600-1998.4347826086957)/794.5531599632346,(3-3.1739130434782608)/0.7605589428059087]),l)"
   ]
  },
  {
   "cell_type": "markdown",
   "metadata": {},
   "source": [
    "<h2>comparate with sklearn </h2>"
   ]
  },
  {
   "cell_type": "code",
   "execution_count": null,
   "metadata": {},
   "outputs": [],
   "source": [
    "import numpy as np\n",
    "from sklearn.linear_model import LinearRegression\n",
    "#X_d=X_d.reshape(46,3)\n",
    "reg = LinearRegression().fit(X_d, y)\n",
    "reg.predict(np.array([[1600,3]]))"
   ]
  },
  {
   "cell_type": "code",
   "execution_count": null,
   "metadata": {},
   "outputs": [],
   "source": [
    "data.head()"
   ]
  },
  {
   "cell_type": "code",
   "execution_count": null,
   "metadata": {},
   "outputs": [],
   "source": []
  },
  {
   "cell_type": "code",
   "execution_count": null,
   "metadata": {},
   "outputs": [],
   "source": []
  }
 ],
 "metadata": {
  "kernelspec": {
   "display_name": "Python 3",
   "language": "python",
   "name": "python3"
  },
  "language_info": {
   "codemirror_mode": {
    "name": "ipython",
    "version": 3
   },
   "file_extension": ".py",
   "mimetype": "text/x-python",
   "name": "python",
   "nbconvert_exporter": "python",
   "pygments_lexer": "ipython3",
   "version": "3.6.6"
  }
 },
 "nbformat": 4,
 "nbformat_minor": 2
}
